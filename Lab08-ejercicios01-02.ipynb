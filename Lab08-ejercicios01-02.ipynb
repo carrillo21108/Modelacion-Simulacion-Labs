{
 "cells": [
  {
   "cell_type": "markdown",
   "metadata": {},
   "source": [
    "# Laboratorio No. 8 \n",
    "\n",
    "* Brian Carrilo\n",
    "* Carlos Lopez \n",
    "* Marco Ramirez \n",
    "* Josué Mórales"
   ]
  },
  {
   "cell_type": "markdown",
   "metadata": {},
   "source": [
    "## Ejercicio 2"
   ]
  },
  {
   "cell_type": "markdown",
   "metadata": {},
   "source": [
    "### a) "
   ]
  },
  {
   "cell_type": "code",
   "execution_count": 1,
   "metadata": {},
   "outputs": [
    {
     "name": "stderr",
     "output_type": "stream",
     "text": [
      "\u001b[32m\u001b[1m    Updating\u001b[22m\u001b[39m registry at `~/.julia/registries/General.toml`\n",
      "\u001b[32m\u001b[1m   Resolving\u001b[22m\u001b[39m package versions...\n",
      "\u001b[32m\u001b[1m  No Changes\u001b[22m\u001b[39m to `~/.julia/environments/v1.10/Project.toml`\n",
      "\u001b[32m\u001b[1m  No Changes\u001b[22m\u001b[39m to `~/.julia/environments/v1.10/Manifest.toml`\n",
      "\u001b[32m\u001b[1m   Resolving\u001b[22m\u001b[39m package versions...\n",
      "\u001b[32m\u001b[1m  No Changes\u001b[22m\u001b[39m to `~/.julia/environments/v1.10/Project.toml`\n",
      "\u001b[32m\u001b[1m  No Changes\u001b[22m\u001b[39m to `~/.julia/environments/v1.10/Manifest.toml`\n"
     ]
    }
   ],
   "source": [
    "import Pkg\n",
    "Pkg.add(\"JuMP\")\n",
    "Pkg.add(\"GLPK\")"
   ]
  },
  {
   "cell_type": "code",
   "execution_count": 2,
   "metadata": {},
   "outputs": [],
   "source": [
    "using JuMP\n",
    "using GLPK\n"
   ]
  },
  {
   "cell_type": "code",
   "execution_count": 3,
   "metadata": {},
   "outputs": [
    {
     "data": {
      "text/plain": [
       "20"
      ]
     },
     "execution_count": 3,
     "metadata": {},
     "output_type": "execute_result"
    }
   ],
   "source": [
    "# Definir datos del probelma \n",
    "\n",
    "valores = [10, 12, 8, 5, 8, 6, 6, 7, 6, 12, 8, 8, 10, 9, 8, 3, 7, 8, 5, 6]  # valores de los items\n",
    "pesos = [6, 7, 7, 3, 5, 2, 4, 5, 3, 9, 8, 8, 7, 6, 6, 5, 2, 3, 5, 4]       # pesos de los items\n",
    "K = 50  # Capacidad máxima de la mochila\n",
    "n = length(valores)  # número de items\n"
   ]
  },
  {
   "cell_type": "code",
   "execution_count": 4,
   "metadata": {},
   "outputs": [
    {
     "data": {
      "text/plain": [
       "A JuMP Model\n",
       "├ solver: GLPK\n",
       "├ objective_sense: FEASIBILITY_SENSE\n",
       "├ num_variables: 0\n",
       "├ num_constraints: 0\n",
       "└ Names registered in the model: none"
      ]
     },
     "execution_count": 4,
     "metadata": {},
     "output_type": "execute_result"
    }
   ],
   "source": [
    "# Crear el modelo con el solver GLPK\n",
    "modelo = Model(GLPK.Optimizer)\n"
   ]
  },
  {
   "cell_type": "code",
   "execution_count": 5,
   "metadata": {},
   "outputs": [
    {
     "data": {
      "text/plain": [
       "20-element Vector{VariableRef}:\n",
       " x[1]\n",
       " x[2]\n",
       " x[3]\n",
       " x[4]\n",
       " x[5]\n",
       " x[6]\n",
       " x[7]\n",
       " x[8]\n",
       " x[9]\n",
       " x[10]\n",
       " x[11]\n",
       " x[12]\n",
       " x[13]\n",
       " x[14]\n",
       " x[15]\n",
       " x[16]\n",
       " x[17]\n",
       " x[18]\n",
       " x[19]\n",
       " x[20]"
      ]
     },
     "execution_count": 5,
     "metadata": {},
     "output_type": "execute_result"
    }
   ],
   "source": [
    "# Definir las variables binarias\n",
    "@variable(modelo, x[1:n], Bin)\n"
   ]
  },
  {
   "cell_type": "code",
   "execution_count": 6,
   "metadata": {},
   "outputs": [
    {
     "data": {
      "text/latex": [
       "$ 10 x_{1} + 12 x_{2} + 8 x_{3} + 5 x_{4} + 8 x_{5} + 6 x_{6} + 6 x_{7} + 7 x_{8} + 6 x_{9} + 12 x_{10} + 8 x_{11} + 8 x_{12} + 10 x_{13} + 9 x_{14} + 8 x_{15} + 3 x_{16} + 7 x_{17} + 8 x_{18} + 5 x_{19} + 6 x_{20} $"
      ],
      "text/plain": [
       "10 x[1] + 12 x[2] + 8 x[3] + 5 x[4] + 8 x[5] + 6 x[6] + 6 x[7] + 7 x[8] + 6 x[9] + 12 x[10] + 8 x[11] + 8 x[12] + 10 x[13] + 9 x[14] + 8 x[15] + 3 x[16] + 7 x[17] + 8 x[18] + 5 x[19] + 6 x[20]"
      ]
     },
     "execution_count": 6,
     "metadata": {},
     "output_type": "execute_result"
    }
   ],
   "source": [
    "# Definir la función objetivo: maximizar el valor total de los ítems seleccionados\n",
    "@objective(modelo, Max, sum(valores[i] * x[i] for i in 1:n))\n"
   ]
  },
  {
   "cell_type": "code",
   "execution_count": 7,
   "metadata": {},
   "outputs": [
    {
     "data": {
      "text/latex": [
       "$$ 6 x_{1} + 7 x_{2} + 7 x_{3} + 3 x_{4} + 5 x_{5} + 2 x_{6} + 4 x_{7} + 5 x_{8} + 3 x_{9} + 9 x_{10} + 8 x_{11} + 8 x_{12} + 7 x_{13} + 6 x_{14} + 6 x_{15} + 5 x_{16} + 2 x_{17} + 3 x_{18} + 5 x_{19} + 4 x_{20} \\leq 50 $$"
      ],
      "text/plain": [
       "6 x[1] + 7 x[2] + 7 x[3] + 3 x[4] + 5 x[5] + 2 x[6] + 4 x[7] + 5 x[8] + 3 x[9] + 9 x[10] + 8 x[11] + 8 x[12] + 7 x[13] + 6 x[14] + 6 x[15] + 5 x[16] + 2 x[17] + 3 x[18] + 5 x[19] + 4 x[20] ≤ 50"
      ]
     },
     "execution_count": 7,
     "metadata": {},
     "output_type": "execute_result"
    }
   ],
   "source": [
    "# Definir la restricción de capacidad: la suma de los pesos no debe exceder K\n",
    "@constraint(modelo, sum(pesos[i] * x[i] for i in 1:n) <= K)\n"
   ]
  },
  {
   "cell_type": "code",
   "execution_count": 8,
   "metadata": {},
   "outputs": [],
   "source": [
    "# Resolver el problema\n",
    "optimize!(modelo)\n"
   ]
  },
  {
   "cell_type": "code",
   "execution_count": 9,
   "metadata": {},
   "outputs": [
    {
     "name": "stdout",
     "output_type": "stream",
     "text": [
      "Selección óptima:\n",
      "Item 1: Valor = 10, Peso = 6\n",
      "Item 2: Valor = 12, Peso = 7\n",
      "Item 4: Valor = 5, Peso = 3\n",
      "Item 5: Valor = 8, Peso = 5\n",
      "Item 6: Valor = 6, Peso = 2\n",
      "Item 7: Valor = 6, Peso = 4\n",
      "Item 8: Valor = 7, Peso = 5\n",
      "Item 9: Valor = 6, Peso = 3\n",
      "Item 14: Valor = 9, Peso = 6\n",
      "Item 17: Valor = 7, Peso = 2\n",
      "Item 18: Valor = 8, Peso = 3\n",
      "Item 20: Valor = 6, Peso = 4\n",
      "Valor total de la selección: 90.0\n",
      "Peso total de la selección: 50.0\n"
     ]
    }
   ],
   "source": [
    "# Verificar si el problema tiene solución óptima\n",
    "if termination_status(modelo) == MOI.OPTIMAL\n",
    "  # Mostrar los ítems seleccionados\n",
    "  println(\"Selección óptima:\")\n",
    "  for i in 1:n\n",
    "      if value(x[i]) > 0.5\n",
    "          println(\"Item $i: Valor = $(valores[i]), Peso = $(pesos[i])\")\n",
    "      end\n",
    "  end\n",
    "\n",
    "  # Mostrar el valor total y el peso total\n",
    "  valor_total = sum(valores[i] * value(x[i]) for i in 1:n)\n",
    "  peso_total = sum(pesos[i] * value(x[i]) for i in 1:n)\n",
    "  println(\"Valor total de la selección: $valor_total\")\n",
    "  println(\"Peso total de la selección: $peso_total\")\n",
    "else\n",
    "  println(\"No se encontró una solución óptima.\")\n",
    "end\n"
   ]
  },
  {
   "cell_type": "markdown",
   "metadata": {},
   "source": [
    "### b)"
   ]
  },
  {
   "cell_type": "code",
   "execution_count": 12,
   "metadata": {},
   "outputs": [
    {
     "data": {
      "text/plain": [
       "20"
      ]
     },
     "execution_count": 12,
     "metadata": {},
     "output_type": "execute_result"
    }
   ],
   "source": [
    "# Paquetes necesarios\n",
    "using Random\n",
    "\n",
    "# Definir datos del problema\n",
    "valores = [10, 12, 8, 5, 8, 6, 6, 7, 6, 12, 8, 8, 10, 9, 8, 3, 7, 8, 5, 6]  # valores de los items\n",
    "pesos = [6, 7, 7, 3, 5, 2, 4, 5, 3, 9, 8, 8, 7, 6, 6, 5, 2, 3, 5, 4]       # pesos de los items\n",
    "K = 50  # Capacidad máxima de la mochila\n",
    "n = length(valores)  # número de items\n"
   ]
  },
  {
   "cell_type": "code",
   "execution_count": 13,
   "metadata": {},
   "outputs": [
    {
     "data": {
      "text/plain": [
       "generar_poblacion (generic function with 1 method)"
      ]
     },
     "execution_count": 13,
     "metadata": {},
     "output_type": "execute_result"
    }
   ],
   "source": [
    "# Parámetros del algoritmo genético\n",
    "N = 100  # Tamaño de la población\n",
    "max_iter = 100  # Número máximo de iteraciones\n",
    "p_cruce = 0.7  # Probabilidad de cruce\n",
    "p_mutacion = 0.1  # Probabilidad de mutación\n",
    "porcentaje_seleccion = 0.5  # Selección del 50% superior\n",
    "elitismo = true  # Elitismo para conservar el mejor individuo\n",
    "\n",
    "# Función de fitness: valor total de los objetos seleccionados si no exceden la capacidad\n",
    "function fitness(individuo, valores, pesos, K)\n",
    "    valor_total = sum(valores[i] * individuo[i] for i in 1:n)\n",
    "    peso_total = sum(pesos[i] * individuo[i] for i in 1:n)\n",
    "    return peso_total <= K ? valor_total : 0\n",
    "end\n",
    "\n",
    "# Generar población inicial de individuos aleatorios (0 o 1)\n",
    "function generar_poblacion(N, n)\n",
    "    return [rand(Bool, n) for _ in 1:N]\n",
    "end\n"
   ]
  },
  {
   "cell_type": "code",
   "execution_count": 14,
   "metadata": {},
   "outputs": [
    {
     "data": {
      "text/plain": [
       "mutacion (generic function with 1 method)"
      ]
     },
     "execution_count": 14,
     "metadata": {},
     "output_type": "execute_result"
    }
   ],
   "source": [
    "# Selección por torneo\n",
    "function seleccion(poblacion, fitness_vals, porcentaje_seleccion)\n",
    "  num_seleccion = Int(round(porcentaje_seleccion * length(poblacion)))\n",
    "  seleccionados = sortperm(fitness_vals, rev=true)[1:num_seleccion]\n",
    "  return poblacion[seleccionados]\n",
    "end\n",
    "\n",
    "# Operador de cruce\n",
    "function cruce(padre1, padre2)\n",
    "  punto_cruce = rand(1:length(padre1))\n",
    "  return vcat(padre1[1:punto_cruce], padre2[(punto_cruce + 1):end])\n",
    "end\n",
    "\n",
    "# Operador de mutación\n",
    "function mutacion(individuo, p_mutacion)\n",
    "  for i in 1:length(individuo)\n",
    "      if rand() < p_mutacion\n",
    "          individuo[i] = !individuo[i]\n",
    "      end\n",
    "  end\n",
    "  return individuo\n",
    "end\n"
   ]
  },
  {
   "cell_type": "code",
   "execution_count": 15,
   "metadata": {},
   "outputs": [
    {
     "data": {
      "text/plain": [
       "algoritmo_genetico (generic function with 1 method)"
      ]
     },
     "execution_count": 15,
     "metadata": {},
     "output_type": "execute_result"
    }
   ],
   "source": [
    "# Algoritmo genético\n",
    "function algoritmo_genetico(valores, pesos, K, N, max_iter, p_cruce, p_mutacion, porcentaje_seleccion)\n",
    "  poblacion = generar_poblacion(N, n)\n",
    "  mejor_individuo = poblacion[1]\n",
    "  mejor_fitness = fitness(mejor_individuo, valores, pesos, K)\n",
    "  \n",
    "  for iter in 1:max_iter\n",
    "      # Calcular fitness de la población\n",
    "      fitness_vals = [fitness(individuo, valores, pesos, K) for individuo in poblacion]\n",
    "      \n",
    "      # Actualizar el mejor individuo\n",
    "      for i in 1:N\n",
    "          if fitness_vals[i] > mejor_fitness\n",
    "              mejor_fitness = fitness_vals[i]\n",
    "              mejor_individuo = poblacion[i]\n",
    "          end\n",
    "      end\n",
    "      \n",
    "      # Selección\n",
    "      poblacion = seleccion(poblacion, fitness_vals, porcentaje_seleccion)\n",
    "      \n",
    "      # Cruce y mutación\n",
    "      nueva_poblacion = []\n",
    "      while length(nueva_poblacion) < N\n",
    "          padre1, padre2 = rand(poblacion), rand(poblacion)\n",
    "          if rand() < p_cruce\n",
    "              hijo = cruce(padre1, padre2)\n",
    "          else\n",
    "              hijo = padre1\n",
    "          end\n",
    "          hijo = mutacion(hijo, p_mutacion)\n",
    "          push!(nueva_poblacion, hijo)\n",
    "      end\n",
    "      poblacion = nueva_poblacion\n",
    "      \n",
    "      # Elitismo\n",
    "      if elitismo\n",
    "          poblacion[1] = mejor_individuo\n",
    "      end\n",
    "  end\n",
    "  \n",
    "  return mejor_individuo, mejor_fitness\n",
    "end\n"
   ]
  },
  {
   "cell_type": "code",
   "execution_count": 16,
   "metadata": {},
   "outputs": [
    {
     "name": "stdout",
     "output_type": "stream",
     "text": [
      "Solución mediante algoritmo genético:\n",
      "Mejor selección: Bool[1, 1, 0, 0, 0, 1, 1, 1, 1, 1, 0, 0, 1, 1, 1, 0, 1, 1, 0, 0]\n",
      "Valor total: 88\n",
      "Peso total: 60\n"
     ]
    }
   ],
   "source": [
    "# Ejecutar el algoritmo genético\n",
    "mejor_individuo, mejor_valor = algoritmo_genetico(valores, pesos, K, N, max_iter, p_cruce, p_mutacion, porcentaje_seleccion)\n",
    "\n",
    "# Calcular el peso total del mejor individuo\n",
    "mejor_peso = sum(pesos[i] * mejor_individuo[i] for i in 1:n)\n",
    "\n",
    "# Mostrar resultados del algoritmo genético\n",
    "println(\"Solución mediante algoritmo genético:\")\n",
    "println(\"Mejor selección: \", mejor_individuo)\n",
    "println(\"Valor total: $mejor_valor\")\n",
    "println(\"Peso total: $mejor_peso\")\n"
   ]
  },
  {
   "cell_type": "code",
   "execution_count": 17,
   "metadata": {},
   "outputs": [
    {
     "name": "stdout",
     "output_type": "stream",
     "text": [
      "Comparación con la solución de programación lineal:\n",
      "Valor total (Programación lineal): 90.0\n",
      "Peso total (Programación lineal): 50.0\n",
      "Valor total (Algoritmo genético): 88\n",
      "Peso total (Algoritmo genético): 60\n",
      "La programación lineal encontró una mejor solución.\n"
     ]
    }
   ],
   "source": [
    "# Comparar con la solución de programación lineal obtenida previamente\n",
    "println(\"Comparación con la solución de programación lineal:\")\n",
    "println(\"Valor total (Programación lineal): $valor_total\")\n",
    "println(\"Peso total (Programación lineal): $peso_total\")\n",
    "println(\"Valor total (Algoritmo genético): $mejor_valor\")\n",
    "println(\"Peso total (Algoritmo genético): $mejor_peso\")\n",
    "\n",
    "if mejor_valor > valor_total\n",
    "    println(\"El algoritmo genético encontró una mejor solución.\")\n",
    "elseif mejor_valor < valor_total\n",
    "    println(\"La programación lineal encontró una mejor solución.\")\n",
    "else\n",
    "    println(\"Ambas soluciones son iguales.\")\n",
    "end\n"
   ]
  }
 ],
 "metadata": {
  "kernelspec": {
   "display_name": "Julia 1.10.5",
   "language": "julia",
   "name": "julia-1.10"
  },
  "language_info": {
   "file_extension": ".jl",
   "mimetype": "application/julia",
   "name": "julia",
   "version": "1.10.5"
  }
 },
 "nbformat": 4,
 "nbformat_minor": 2
}
