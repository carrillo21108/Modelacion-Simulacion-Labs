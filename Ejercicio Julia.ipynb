{
 "cells": [
  {
   "cell_type": "markdown",
   "metadata": {},
   "source": [
    "# Laboratorio No. 7"
   ]
  },
  {
   "cell_type": "markdown",
   "metadata": {},
   "source": [
    "## Ejercicio No. 1"
   ]
  },
  {
   "cell_type": "markdown",
   "metadata": {},
   "source": [
    "#### a) Formulación del modelo de transporte"
   ]
  },
  {
   "cell_type": "markdown",
   "metadata": {},
   "source": [
    "Variables:\n",
    "- Hay 3 centros de distribución y 5 concesionarios.\n",
    "- x_ij: cantidad de automóviles enviados desde el centro de distribución i al concesionario j.\n",
    "- c_ij: costo de envío desde el centro i al concesionario j, que depende de la distancia.\n",
    "- s_i: oferta de automóviles en el centro i.\n",
    "- d_j: demanda de automóviles del concesionario j.\n",
    "\n",
    "El costo de transporte se calcula multiplicando la distancia por milla entre i y j por $25 y el número de camiones necesarios para cumplir con la demanda, donde cada camión transporta 18 automóviles.\n",
    "\n",
    "**Función objetivo**:\n",
    "Minimizar el costo total de transporte, que es la suma de x_ij x c_ij para todos los i y j.\n",
    "\n",
    "**Restricciones**:\n",
    "1. La cantidad total enviada desde cada centro i no puede exceder la oferta s_i.\n",
    "2. La cantidad total recibida por cada concesionario j debe satisfacer su demanda d_j.\n"
   ]
  },
  {
   "cell_type": "markdown",
   "metadata": {},
   "source": [
    "### b) Resolver el problema usando la librer ́ıa JuMP. Indique cu ́al es la distribuci ́on  ́optima, y el costo asociado."
   ]
  },
  {
   "cell_type": "code",
   "execution_count": 1,
   "metadata": {},
   "outputs": [
    {
     "name": "stderr",
     "output_type": "stream",
     "text": [
      "\u001b[32m\u001b[1m    Updating\u001b[22m\u001b[39m registry at `C:\\Users\\bcarr\\.julia\\registries\\General.toml`\n",
      "\u001b[32m\u001b[1m   Resolving\u001b[22m\u001b[39m package versions...\n",
      "\u001b[32m\u001b[1m  No Changes\u001b[22m\u001b[39m to `C:\\Users\\bcarr\\.julia\\environments\\v1.10\\Project.toml`\n",
      "\u001b[32m\u001b[1m  No Changes\u001b[22m\u001b[39m to `C:\\Users\\bcarr\\.julia\\environments\\v1.10\\Manifest.toml`\n",
      "\u001b[32m\u001b[1m   Resolving\u001b[22m\u001b[39m package versions...\n",
      "\u001b[32m\u001b[1m  No Changes\u001b[22m\u001b[39m to `C:\\Users\\bcarr\\.julia\\environments\\v1.10\\Project.toml`\n",
      "\u001b[32m\u001b[1m  No Changes\u001b[22m\u001b[39m to `C:\\Users\\bcarr\\.julia\\environments\\v1.10\\Manifest.toml`\n"
     ]
    }
   ],
   "source": [
    "using Pkg\n",
    "Pkg.add(\"JuMP\")\n",
    "Pkg.add(\"GLPK\")\n",
    "\n",
    "using JuMP, GLPK"
   ]
  },
  {
   "cell_type": "code",
   "execution_count": 105,
   "metadata": {},
   "outputs": [
    {
     "data": {
      "text/plain": [
       "3-element Vector{Vector{Int64}}:\n",
       " [100, 150, 200, 140, 35]\n",
       " [50, 70, 60, 65, 80]\n",
       " [40, 90, 100, 150, 130]"
      ]
     },
     "metadata": {},
     "output_type": "display_data"
    }
   ],
   "source": [
    "oferta = [400, 200, 150]  # Oferta de cada centro\n",
    "oferta = [ceil(value/18) for value in oferta]  # Convertir a camiones\n",
    "demanda = [100, 200, 150, 160, 140]  # Demanda de cada concesionario\n",
    "demanda = [ceil(value/18) for value in demanda]  # Convertir a camiones\n",
    "\n",
    "distancias = [\n",
    "    [100, 150, 200, 140, 35],  # Distancias desde centro 1\n",
    "    [50, 70, 60, 65, 80],      # Distancias desde centro 2\n",
    "    [40, 90, 100, 150, 130]    # Distancias desde centro 3\n",
    "]"
   ]
  },
  {
   "cell_type": "code",
   "execution_count": 106,
   "metadata": {},
   "outputs": [
    {
     "data": {
      "text/plain": [
       "3-element Vector{Vector{Int64}}:\n",
       " [2500, 3750, 5000, 3500, 875]\n",
       " [1250, 1750, 1500, 1625, 2000]\n",
       " [1000, 2250, 2500, 3750, 3250]"
      ]
     },
     "metadata": {},
     "output_type": "display_data"
    }
   ],
   "source": [
    "# Convertimos las distancias a costos multiplicándolas por 25 (costo por milla)\n",
    "costo = [d .* 25 for d in distancias]"
   ]
  },
  {
   "cell_type": "code",
   "execution_count": 107,
   "metadata": {},
   "outputs": [
    {
     "data": {
      "text/plain": [
       "A JuMP Model\n",
       "├ solver: GLPK\n",
       "├ objective_sense: FEASIBILITY_SENSE\n",
       "├ num_variables: 0\n",
       "├ num_constraints: 0\n",
       "└ Names registered in the model: none"
      ]
     },
     "metadata": {},
     "output_type": "display_data"
    }
   ],
   "source": [
    "# Creamos el modelo de optimización\n",
    "model = Model(GLPK.Optimizer)"
   ]
  },
  {
   "cell_type": "code",
   "execution_count": 108,
   "metadata": {},
   "outputs": [
    {
     "data": {
      "text/latex": [
       "$ 2500 x_{1,1} + 3750 x_{1,2} + 5000 x_{1,3} + 3500 x_{1,4} + 875 x_{1,5} + 1250 x_{2,1} + 1750 x_{2,2} + 1500 x_{2,3} + 1625 x_{2,4} + 2000 x_{2,5} + 1000 x_{3,1} + 2250 x_{3,2} + 2500 x_{3,3} + 3750 x_{3,4} + 3250 x_{3,5} $"
      ],
      "text/plain": [
       "2500 x[1,1] + 3750 x[1,2] + 5000 x[1,3] + 3500 x[1,4] + 875 x[1,5] + 1250 x[2,1] + 1750 x[2,2] + 1500 x[2,3] + 1625 x[2,4] + 2000 x[2,5] + 1000 x[3,1] + 2250 x[3,2] + 2500 x[3,3] + 3750 x[3,4] + 3250 x[3,5]"
      ]
     },
     "metadata": {},
     "output_type": "display_data"
    }
   ],
   "source": [
    "# Definimos las variables de decisión: cantidad enviada de cada centro a cada concesionario\n",
    "@variable(model, x[1:3, 1:5] >= 0)  # x[i,j] es la cantidad enviada desde centro i a concesionario j\n",
    "\n",
    "# Definimos la función objetivo: minimizar el costo total de transporte\n",
    "@objective(model, Min, sum(x[i,j] * costo[i][j] for i in 1:3, j in 1:5))"
   ]
  },
  {
   "cell_type": "code",
   "execution_count": 109,
   "metadata": {},
   "outputs": [],
   "source": [
    "# Restricciones de oferta: no se puede enviar más de lo disponible en cada centro\n",
    "for i in 1:3\n",
    "    @constraint(model, sum(x[i,j] for j in 1:5) <= oferta[i])\n",
    "end\n",
    "\n",
    "# Restricciones de demanda: cada concesionario debe recibir lo que necesita\n",
    "for j in 1:5\n",
    "    @constraint(model, sum(x[i,j] for i in 1:3) == demanda[j])\n",
    "end"
   ]
  },
  {
   "cell_type": "code",
   "execution_count": 110,
   "metadata": {},
   "outputs": [
    {
     "name": "stdout",
     "output_type": "stream",
     "text": [
      "Distribución óptima de automóviles:\n",
      "Desde centro 1 a concesionario 1: 0.0\n",
      "Desde centro 1 a concesionario 2: 6.0\n",
      "Desde centro 1 a concesionario 3: 0.0\n",
      "Desde centro 1 a concesionario 4: 9.0\n",
      "Desde centro 1 a concesionario 5: 8.0\n",
      "Desde centro 2 a concesionario 1: 0.0\n",
      "Desde centro 2 a concesionario 2: 3.0\n",
      "Desde centro 2 a concesionario 3: 9.0\n",
      "Desde centro 2 a concesionario 4: 0.0\n",
      "Desde centro 2 a concesionario 5: 0.0\n",
      "Desde centro 3 a concesionario 1: 6.0\n",
      "Desde centro 3 a concesionario 2: 3.0\n",
      "Desde centro 3 a concesionario 3: 0.0\n",
      "Desde centro 3 a concesionario 4: 0.0\n",
      "Desde centro 3 a concesionario 5: 0.0\n",
      "Costo total: 92500.0\n"
     ]
    }
   ],
   "source": [
    "# Resolución del problema\n",
    "optimize!(model)\n",
    "\n",
    "println(\"Distribución óptima de automóviles:\")\n",
    "for i in 1:3\n",
    "    for j in 1:5\n",
    "        println(\"Desde centro $i a concesionario $j: \", value(x[i,j]))\n",
    "    end\n",
    "end\n",
    "\n",
    "println(\"Costo total: \", objective_value(model))"
   ]
  },
  {
   "cell_type": "markdown",
   "metadata": {},
   "source": [
    "## Ejercicio No. 2"
   ]
  },
  {
   "cell_type": "markdown",
   "metadata": {},
   "source": [
    "#### (a) Asuma que en el problema anterior, el Concesionario 5 requiere 200 autom ́oviles. Formular y resolver el nuevo problema de transporte, comparando la soluci ́on con la del Problema 1."
   ]
  },
  {
   "cell_type": "markdown",
   "metadata": {},
   "source": [
    "El Concesionario 5 aumenta su demanda de 140 a 200 automóviles, mientras que la oferta de los centros de distribución permanece igual. El objetivo sigue siendo minimizar el costo total de transporte de los automóviles desde tres centros de distribución a cinco concesionarios, considerando el costo de 25 dólares por milla recorrida. Las variables de decisión x_ij representan la cantidad de automóviles enviados desde el centro i al concesionario j. El modelo está sujeto a restricciones de oferta, que aseguran que los centros de distribución no envíen más de lo que pueden producir, y restricciones de demanda, que requieren que cada concesionario reciba exactamente la cantidad de automóviles que necesita."
   ]
  },
  {
   "cell_type": "code",
   "execution_count": 111,
   "metadata": {},
   "outputs": [
    {
     "data": {
      "text/plain": [
       "3-element Vector{Vector{Int64}}:\n",
       " [100, 150, 200, 140, 35]\n",
       " [50, 70, 60, 65, 80]\n",
       " [40, 90, 100, 150, 130]"
      ]
     },
     "metadata": {},
     "output_type": "display_data"
    }
   ],
   "source": [
    "\n",
    "oferta = [400, 200, 150]  # Oferta de cada centro\n",
    "oferta = [ceil(value/18) for value in oferta]  # Convertir a camiones\n",
    "demanda = [100, 200, 150, 160, 200]  # Nueva demanda de cada concesionario\n",
    "demanda = [ceil(value/18) for value in demanda]  # Convertir a camiones\n",
    "\n",
    "distancias = [\n",
    "    [100, 150, 200, 140, 35],  # Distancias desde centro 1\n",
    "    [50, 70, 60, 65, 80],      # Distancias desde centro 2\n",
    "    [40, 90, 100, 150, 130]    # Distancias desde centro 3\n",
    "]"
   ]
  },
  {
   "cell_type": "code",
   "execution_count": 112,
   "metadata": {},
   "outputs": [
    {
     "data": {
      "text/plain": [
       "A JuMP Model\n",
       "├ solver: GLPK\n",
       "├ objective_sense: FEASIBILITY_SENSE\n",
       "├ num_variables: 0\n",
       "├ num_constraints: 0\n",
       "└ Names registered in the model: none"
      ]
     },
     "metadata": {},
     "output_type": "display_data"
    }
   ],
   "source": [
    "# Convertimos las distancias a costos multiplicándolas por 25 (costo por milla)\n",
    "costo = [d .* 25 for d in distancias]\n",
    "\n",
    "# Creamos el modelo de optimización\n",
    "model = Model(GLPK.Optimizer)"
   ]
  },
  {
   "cell_type": "code",
   "execution_count": 113,
   "metadata": {},
   "outputs": [
    {
     "data": {
      "text/latex": [
       "$ 2500 x_{1,1} + 3750 x_{1,2} + 5000 x_{1,3} + 3500 x_{1,4} + 875 x_{1,5} + 1250 x_{2,1} + 1750 x_{2,2} + 1500 x_{2,3} + 1625 x_{2,4} + 2000 x_{2,5} + 1000 x_{3,1} + 2250 x_{3,2} + 2500 x_{3,3} + 3750 x_{3,4} + 3250 x_{3,5} $"
      ],
      "text/plain": [
       "2500 x[1,1] + 3750 x[1,2] + 5000 x[1,3] + 3500 x[1,4] + 875 x[1,5] + 1250 x[2,1] + 1750 x[2,2] + 1500 x[2,3] + 1625 x[2,4] + 2000 x[2,5] + 1000 x[3,1] + 2250 x[3,2] + 2500 x[3,3] + 3750 x[3,4] + 3250 x[3,5]"
      ]
     },
     "metadata": {},
     "output_type": "display_data"
    }
   ],
   "source": [
    "# Definimos las variables de decisión: cantidad enviada de cada centro a cada concesionario\n",
    "@variable(model, x[1:3, 1:5] >= 0)  # x[i,j] es la cantidad enviada desde centro i a concesionario j\n",
    "\n",
    "# Definimos la función objetivo: minimizar el costo total de transporte\n",
    "@objective(model, Min, sum(x[i,j] * ceil(costo[i][j]) for i in 1:3, j in 1:5))\n"
   ]
  },
  {
   "cell_type": "code",
   "execution_count": 114,
   "metadata": {},
   "outputs": [],
   "source": [
    "# Restricciones de oferta: no se puede enviar más de lo disponible en cada centro\n",
    "for i in 1:3\n",
    "    @constraint(model, sum(x[i,j] for j in 1:5) <= oferta[i])\n",
    "end\n",
    "\n",
    "# Restricciones de demanda: cada concesionario debe recibir exactamente su demanda\n",
    "for j in 1:5\n",
    "    @constraint(model, sum(x[i,j] for i in 1:3) == demanda[j])\n",
    "end"
   ]
  },
  {
   "cell_type": "code",
   "execution_count": 115,
   "metadata": {},
   "outputs": [
    {
     "name": "stdout",
     "output_type": "stream",
     "text": [
      "Distribución óptima de automóviles:\n",
      "Desde centro 1 a concesionario 1: 6.0\n",
      "Desde centro 1 a concesionario 2: 0.0\n",
      "Desde centro 1 a concesionario 3: 0.0\n",
      "Desde centro 1 a concesionario 4: 9.0\n",
      "Desde centro 1 a concesionario 5: 12.0\n",
      "Desde centro 2 a concesionario 1: 0.0\n",
      "Desde centro 2 a concesionario 2: 0.0\n",
      "Desde centro 2 a concesionario 3: 12.0\n",
      "Desde centro 2 a concesionario 4: 0.0\n",
      "Desde centro 2 a concesionario 5: 0.0\n",
      "Desde centro 3 a concesionario 1: 0.0\n",
      "Desde centro 3 a concesionario 2: 12.0\n",
      "Desde centro 3 a concesionario 3: -3.0\n",
      "Desde centro 3 a concesionario 4: 0.0\n",
      "Desde centro 3 a concesionario 5: 0.0\n",
      "Costo total: 94500.0\n"
     ]
    }
   ],
   "source": [
    "# Resolución del problema\n",
    "optimize!(model)\n",
    "\n",
    "# Mostramos la solución\n",
    "println(\"Distribución óptima de automóviles:\")\n",
    "for i in 1:3\n",
    "    for j in 1:5\n",
    "        println(\"Desde centro $i a concesionario $j: \", value(x[i,j]))\n",
    "    end\n",
    "end\n",
    "\n",
    "# Mostramos el costo total\n",
    "println(\"Costo total: \", objective_value(model))"
   ]
  },
  {
   "cell_type": "markdown",
   "metadata": {},
   "source": [
    "Comparación:\n",
    "- Demanda no cubierta:\n",
    "En la primera solución, toda la demanda fue cubierta correctamente sin ningún déficit, ya que no hay valores negativos ni inconsistencias en la distribución.\n",
    "En la segunda solución, el valor de -3 automóviles asignado al Concesionario 3 indica que no se pudo cubrir la totalidad de la demanda para ese concesionario, lo que generó un déficit. Esto sugiere que, mientras algunos concesionarios (como el Concesionario 5) recibieron más automóviles, otros concesionarios no recibieron lo suficiente, lo que afectó la distribución.\n",
    "- Distribución:\n",
    "En la primera solución, el Concesionario 1 recibió 6 automóviles desde el Centro 3, mientras que en la segunda solución, los automóviles provienen del Centro 1.\n",
    "El Concesionario 2 recibió 6 automóviles en total (distribuidos entre los Centros 1 y 3) en la primera solución, mientras que en la segunda solución recibió 12 automóviles, todos provenientes del Centro 3.\n",
    "El Concesionario 3, en la primera solución, recibió 9 automóviles del Centro 2 sin problemas. En la segunda solución, aunque se intentó asignar 12 automóviles, no se pudo satisfacer la demanda completa y surgió un déficit de 3 automóviles.\n",
    "El Concesionario 5 en la segunda solución recibió más automóviles (12 en comparación con los 8 de la primera solución), lo que refleja que se priorizó cubrir la demanda del Concesionario 5 en detrimento del Concesionario 3.\n",
    "- Costo total:\n",
    "Costo en la primera solución: $92,500.\n",
    "Costo en la segunda solución: $94,500.\n",
    "El costo total es más alto en la segunda solución, principalmente debido a que más automóviles fueron enviados, pero también refleja la desventaja de no cumplir completamente la demanda del Concesionario 3. Aunque el Concesionario 5 recibió más automóviles.\n"
   ]
  },
  {
   "cell_type": "markdown",
   "metadata": {},
   "source": [
    "#### (b) Asuma que en el problema anterior, el Centro 3 produce 200 autom ́oviles. Formular y resolver el nuevo problema de transporte, comparando la soluci ́on con la del Problema 1.\n"
   ]
  },
  {
   "cell_type": "markdown",
   "metadata": {},
   "source": [
    "El aumento de la producción en el Centro 3 se basa en minimizar el costo total de envío de automóviles desde tres centros de distribución a cinco concesionarios, donde cada ruta tiene un costo asociado basado en la distancia en millas multiplicada por 25 dólares por milla recorrida. La cantidad de automóviles enviados desde cada centro a cada concesionario se modela mediante variables de decisión x_ij, que representan los automóviles enviados desde el centro i al concesionario j. El objetivo es minimizar el costo total, sujeto a las restricciones de oferta, que garantizan que la cantidad enviada desde cada centro no exceda su capacidad, y las restricciones de demanda, que aseguran que cada concesionario reciba exactamente el número de automóviles que requiere. Con el aumento en la oferta del Centro 3 de 150 a 200 automóviles, el modelo busca una distribución óptima que minimice los costos mientras satisface completamente la demanda de los concesionarios."
   ]
  },
  {
   "cell_type": "code",
   "execution_count": 117,
   "metadata": {},
   "outputs": [
    {
     "data": {
      "text/plain": [
       "3-element Vector{Vector{Int64}}:\n",
       " [100, 150, 200, 140, 35]\n",
       " [50, 70, 60, 65, 80]\n",
       " [40, 90, 100, 150, 130]"
      ]
     },
     "metadata": {},
     "output_type": "display_data"
    }
   ],
   "source": [
    "oferta = [400, 200, 200]  # Centro 3 ahora produce 200 automóviles\n",
    "oferta = [ceil(value/18) for value in oferta]  # Convertir a camiones\n",
    "demanda = [100, 200, 150, 160, 140]  # Demanda de cada concesionario (sin cambios)\n",
    "demanda = [ceil(value/18) for value in demanda]  # Convertir a camiones\n",
    "\n",
    "distancias = [\n",
    "    [100, 150, 200, 140, 35],  # Distancias desde centro 1\n",
    "    [50, 70, 60, 65, 80],      # Distancias desde centro 2\n",
    "    [40, 90, 100, 150, 130]    # Distancias desde centro 3\n",
    "]"
   ]
  },
  {
   "cell_type": "code",
   "execution_count": 118,
   "metadata": {},
   "outputs": [
    {
     "data": {
      "text/plain": [
       "A JuMP Model\n",
       "├ solver: GLPK\n",
       "├ objective_sense: FEASIBILITY_SENSE\n",
       "├ num_variables: 0\n",
       "├ num_constraints: 0\n",
       "└ Names registered in the model: none"
      ]
     },
     "metadata": {},
     "output_type": "display_data"
    }
   ],
   "source": [
    "# Convertimos las distancias a costos multiplicándolas por 25 (costo por milla)\n",
    "costo = [d .* 25 for d in distancias]\n",
    "\n",
    "# Creamos el modelo de optimización\n",
    "model = Model(GLPK.Optimizer)"
   ]
  },
  {
   "cell_type": "code",
   "execution_count": 119,
   "metadata": {},
   "outputs": [
    {
     "data": {
      "text/latex": [
       "$ 2500 x_{1,1} + 3750 x_{1,2} + 5000 x_{1,3} + 3500 x_{1,4} + 875 x_{1,5} + 1250 x_{2,1} + 1750 x_{2,2} + 1500 x_{2,3} + 1625 x_{2,4} + 2000 x_{2,5} + 1000 x_{3,1} + 2250 x_{3,2} + 2500 x_{3,3} + 3750 x_{3,4} + 3250 x_{3,5} $"
      ],
      "text/plain": [
       "2500 x[1,1] + 3750 x[1,2] + 5000 x[1,3] + 3500 x[1,4] + 875 x[1,5] + 1250 x[2,1] + 1750 x[2,2] + 1500 x[2,3] + 1625 x[2,4] + 2000 x[2,5] + 1000 x[3,1] + 2250 x[3,2] + 2500 x[3,3] + 3750 x[3,4] + 3250 x[3,5]"
      ]
     },
     "metadata": {},
     "output_type": "display_data"
    }
   ],
   "source": [
    "# Definimos las variables de decisión: cantidad enviada de cada centro a cada concesionario\n",
    "@variable(model, x[1:3, 1:5] >= 0)  # x[i,j] es la cantidad enviada desde centro i a concesionario j\n",
    "\n",
    "# Definimos la función objetivo: minimizar el costo total de transporte\n",
    "@objective(model, Min, sum(x[i,j] * ceil(costo[i][j]) for i in 1:3, j in 1:5))"
   ]
  },
  {
   "cell_type": "code",
   "execution_count": 120,
   "metadata": {},
   "outputs": [],
   "source": [
    "# Restricciones de oferta: no se puede enviar más de lo disponible en cada centro\n",
    "for i in 1:3\n",
    "    @constraint(model, sum(x[i,j] for j in 1:5) <= oferta[i])\n",
    "end\n",
    "\n",
    "# Restricciones de demanda: cada concesionario debe recibir exactamente su demanda\n",
    "for j in 1:5\n",
    "    @constraint(model, sum(x[i,j] for i in 1:3) == demanda[j])\n",
    "end"
   ]
  },
  {
   "cell_type": "code",
   "execution_count": 121,
   "metadata": {},
   "outputs": [
    {
     "name": "stdout",
     "output_type": "stream",
     "text": [
      "Distribución óptima de automóviles:\n",
      "Desde centro 1 a concesionario 1: 0.0\n",
      "Desde centro 1 a concesionario 2: 3.0\n",
      "Desde centro 1 a concesionario 3: 0.0\n",
      "Desde centro 1 a concesionario 4: 9.0\n",
      "Desde centro 1 a concesionario 5: 8.0\n",
      "Desde centro 2 a concesionario 1: 0.0\n",
      "Desde centro 2 a concesionario 2: 3.0\n",
      "Desde centro 2 a concesionario 3: 9.0\n",
      "Desde centro 2 a concesionario 4: 0.0\n",
      "Desde centro 2 a concesionario 5: 0.0\n",
      "Desde centro 3 a concesionario 1: 6.0\n",
      "Desde centro 3 a concesionario 2: 6.0\n",
      "Desde centro 3 a concesionario 3: 0.0\n",
      "Desde centro 3 a concesionario 4: 0.0\n",
      "Desde centro 3 a concesionario 5: 0.0\n",
      "Costo total: 88000.0\n"
     ]
    }
   ],
   "source": [
    "# Resolución del problema\n",
    "optimize!(model)\n",
    "\n",
    "# Mostramos la solución\n",
    "println(\"Distribución óptima de automóviles:\")\n",
    "for i in 1:3\n",
    "    for j in 1:5\n",
    "        println(\"Desde centro $i a concesionario $j: \", value(x[i,j]))\n",
    "    end\n",
    "end\n",
    "\n",
    "# Mostramos el costo total\n",
    "println(\"Costo total: \", objective_value(model))"
   ]
  },
  {
   "cell_type": "markdown",
   "metadata": {},
   "source": [
    "Comparación:\n",
    "- Demanda no cubierta:\n",
    "En ambas soluciones, toda la demanda ha sido cubierta adecuadamente, ya que no hay déficits en la asignación de automóviles. Por lo tanto, en la primera y en la tercera solución, la distribución de los automóviles cumplió con los requisitos de los concesionarios.\n",
    "- Distribución:\n",
    "En ambas soluciones, los Concesionarios 1, 3, 4 y 5 reciben la misma cantidad de automóviles desde los mismos centros.\n",
    "El Concesionario 2:\n",
    "En la primera solución, recibe 6 automóviles en total, distribuidos como 6 del Centro 1 y 3 del Centro 2.\n",
    "En la tercera solución, recibe 9 automóviles en total, distribuidos como 3 del Centro 1, 3 del Centro 2 y 6 del Centro 3. Esto refleja una mayor participación del Centro 3 en la tercera solución, lo que permitió reducir el envío del Centro 1.\n",
    "Este cambio en la distribución muestra que la tercera solución optimiza mejor la asignación de automóviles hacia el Concesionario 2, logrando un equilibrio más eficiente en los envíos.\n",
    "- Costo total:\n",
    "Costo en la primera solución: $92,500.\n",
    "Costo en la tercera solución: $88,000.\n",
    "El costo en la tercera solucion es menor, con una reducción de $4,500 en el costo total. Esta reducción se debe principalmente a la mayor utilización del Centro 3 para el Concesionario 2, lo que disminuyó los costos asociados con el Centro 1 y mejoró la eficiencia de las rutas de transporte."
   ]
  },
  {
   "cell_type": "markdown",
   "metadata": {},
   "source": [
    "## Ejercicio No. 3"
   ]
  },
  {
   "cell_type": "code",
   "execution_count": 1,
   "metadata": {},
   "outputs": [
    {
     "name": "stderr",
     "output_type": "stream",
     "text": [
      "\u001b[32m\u001b[1m    Updating\u001b[22m\u001b[39m registry at `~/.julia/registries/General.toml`\n",
      "\u001b[32m\u001b[1m   Resolving\u001b[22m\u001b[39m package versions...\n",
      "\u001b[32m\u001b[1m  No Changes\u001b[22m\u001b[39m to `~/.julia/environments/v1.10/Project.toml`\n",
      "\u001b[32m\u001b[1m  No Changes\u001b[22m\u001b[39m to `~/.julia/environments/v1.10/Manifest.toml`\n",
      "\u001b[32m\u001b[1m   Resolving\u001b[22m\u001b[39m package versions...\n",
      "\u001b[32m\u001b[1m  No Changes\u001b[22m\u001b[39m to `~/.julia/environments/v1.10/Project.toml`\n",
      "\u001b[32m\u001b[1m  No Changes\u001b[22m\u001b[39m to `~/.julia/environments/v1.10/Manifest.toml`\n"
     ]
    }
   ],
   "source": [
    "import Pkg\n",
    "Pkg.add(\"JuMP\")\n",
    "Pkg.add(\"GLPK\")\n"
   ]
  },
  {
   "cell_type": "code",
   "execution_count": 2,
   "metadata": {},
   "outputs": [],
   "source": [
    "using JuMP, GLPK\n"
   ]
  },
  {
   "cell_type": "markdown",
   "metadata": {},
   "source": [
    "### Problema 1"
   ]
  },
  {
   "cell_type": "code",
   "execution_count": 3,
   "metadata": {},
   "outputs": [
    {
     "data": {
      "text/plain": [
       "5×5 Matrix{Int64}:\n",
       " 3  8  2  10  3\n",
       " 6  5  2   7  5\n",
       " 6  4  2   7  5\n",
       " 8  4  2   3  5\n",
       " 7  8  6   7  7"
      ]
     },
     "metadata": {},
     "output_type": "display_data"
    }
   ],
   "source": [
    "# Matriz de costos del problema (i)\n",
    "cost = [\n",
    "    3 8 2 10 3;\n",
    "    6 5 2 7 5;\n",
    "    6 4 2 7 5;\n",
    "    8 4 2 3 5;\n",
    "    7 8 6 7 7\n",
    "]\n"
   ]
  },
  {
   "cell_type": "code",
   "execution_count": 4,
   "metadata": {},
   "outputs": [
    {
     "data": {
      "text/plain": [
       "5×5 Matrix{VariableRef}:\n",
       " x[1,1]  x[1,2]  x[1,3]  x[1,4]  x[1,5]\n",
       " x[2,1]  x[2,2]  x[2,3]  x[2,4]  x[2,5]\n",
       " x[3,1]  x[3,2]  x[3,3]  x[3,4]  x[3,5]\n",
       " x[4,1]  x[4,2]  x[4,3]  x[4,4]  x[4,5]\n",
       " x[5,1]  x[5,2]  x[5,3]  x[5,4]  x[5,5]"
      ]
     },
     "metadata": {},
     "output_type": "display_data"
    }
   ],
   "source": [
    "# Definir el problema de optimización\n",
    "model = Model(GLPK.Optimizer)\n",
    "\n",
    "# Número de trabajadores y tareas\n",
    "n_workers = size(cost, 1)\n",
    "n_tasks = size(cost, 2)\n",
    "\n",
    "# Variables de decisión: x[i,j] = 1 si el trabajador i hace la tarea j, 0 de lo contrario\n",
    "@variable(model, x[1:n_workers, 1:n_tasks], Bin)\n"
   ]
  },
  {
   "cell_type": "code",
   "execution_count": 5,
   "metadata": {},
   "outputs": [
    {
     "data": {
      "text/latex": [
       "$ 3 x_{1,1} + 8 x_{1,2} + 2 x_{1,3} + 10 x_{1,4} + 3 x_{1,5} + 6 x_{2,1} + 5 x_{2,2} + 2 x_{2,3} + 7 x_{2,4} + 5 x_{2,5} + 6 x_{3,1} + 4 x_{3,2} + 2 x_{3,3} + 7 x_{3,4} + 5 x_{3,5} + 8 x_{4,1} + 4 x_{4,2} + 2 x_{4,3} + 3 x_{4,4} + 5 x_{4,5} + 7 x_{5,1} + 8 x_{5,2} + 6 x_{5,3} + 7 x_{5,4} + 7 x_{5,5} $"
      ],
      "text/plain": [
       "3 x[1,1] + 8 x[1,2] + 2 x[1,3] + 10 x[1,4] + 3 x[1,5] + 6 x[2,1] + 5 x[2,2] + 2 x[2,3] + 7 x[2,4] + 5 x[2,5] + 6 x[3,1] + 4 x[3,2] + 2 x[3,3] + 7 x[3,4] + 5 x[3,5] + 8 x[4,1] + 4 x[4,2] + 2 x[4,3] + 3 x[4,4] + 5 x[4,5] + 7 x[5,1] + 8 x[5,2] + 6 x[5,3] + 7 x[5,4] + 7 x[5,5]"
      ]
     },
     "metadata": {},
     "output_type": "display_data"
    }
   ],
   "source": [
    "# Función objetivo: minimizar el costo total de asignación\n",
    "@objective(model, Min, sum(cost[i, j] * x[i, j] for i in 1:n_workers for j in 1:n_tasks))\n"
   ]
  },
  {
   "cell_type": "code",
   "execution_count": 6,
   "metadata": {},
   "outputs": [
    {
     "data": {
      "text/plain": [
       "5-element Vector{ConstraintRef{Model, MathOptInterface.ConstraintIndex{MathOptInterface.ScalarAffineFunction{Float64}, MathOptInterface.EqualTo{Float64}}, ScalarShape}}:\n",
       " x[1,1] + x[2,1] + x[3,1] + x[4,1] + x[5,1] = 1\n",
       " x[1,2] + x[2,2] + x[3,2] + x[4,2] + x[5,2] = 1\n",
       " x[1,3] + x[2,3] + x[3,3] + x[4,3] + x[5,3] = 1\n",
       " x[1,4] + x[2,4] + x[3,4] + x[4,4] + x[5,4] = 1\n",
       " x[1,5] + x[2,5] + x[3,5] + x[4,5] + x[5,5] = 1"
      ]
     },
     "metadata": {},
     "output_type": "display_data"
    }
   ],
   "source": [
    "# Restricción: cada trabajador hace una tarea\n",
    "@constraint(model, [i in 1:n_workers], sum(x[i, j] for j in 1:n_tasks) == 1)\n",
    "\n",
    "# Restricción: cada tarea la hace solo un trabajador\n",
    "@constraint(model, [j in 1:n_tasks], sum(x[i, j] for i in 1:n_workers) == 1)\n"
   ]
  },
  {
   "cell_type": "code",
   "execution_count": 7,
   "metadata": {},
   "outputs": [
    {
     "name": "stdout",
     "output_type": "stream",
     "text": [
      "Estado del modelo: OPTIMAL\n",
      "Costo total: 19.0\n",
      "Trabajador 1 hace la tarea 1\n",
      "Trabajador 2 hace la tarea 3\n",
      "Trabajador 3 hace la tarea 2\n",
      "Trabajador 4 hace la tarea 4\n",
      "Trabajador 5 hace la tarea 5\n"
     ]
    }
   ],
   "source": [
    "# Resolver el modelo\n",
    "optimize!(model)\n",
    "\n",
    "# Mostrar resultados\n",
    "println(\"Estado del modelo: \", termination_status(model))\n",
    "println(\"Costo total: \", objective_value(model))\n",
    "\n",
    "# Mostrar la asignación de cada trabajador\n",
    "for i in 1:n_workers, j in 1:n_tasks\n",
    "    if value(x[i, j]) > 0.5\n",
    "        println(\"Trabajador \", i, \" hace la tarea \", j)\n",
    "    end\n",
    "end\n"
   ]
  },
  {
   "cell_type": "markdown",
   "metadata": {},
   "source": [
    "### Problema 2"
   ]
  },
  {
   "cell_type": "code",
   "execution_count": 9,
   "metadata": {},
   "outputs": [
    {
     "data": {
      "text/plain": [
       "5×5 Matrix{Int64}:\n",
       " 3  9  2   2  7\n",
       " 6  1  5   6  6\n",
       " 9  4  7  10  3\n",
       " 2  5  4   2  1\n",
       " 9  6  2   4  6"
      ]
     },
     "metadata": {},
     "output_type": "display_data"
    }
   ],
   "source": [
    "# Matriz de costos del problema (ii)\n",
    "cost2 = [\n",
    "    3 9 2 2 7;\n",
    "    6 1 5 6 6;\n",
    "    9 4 7 10 3;\n",
    "    2 5 4 2 1;\n",
    "    9 6 2 4 6\n",
    "]\n"
   ]
  },
  {
   "cell_type": "code",
   "execution_count": 11,
   "metadata": {},
   "outputs": [
    {
     "data": {
      "text/plain": [
       "5×5 Matrix{VariableRef}:\n",
       " x[1,1]  x[1,2]  x[1,3]  x[1,4]  x[1,5]\n",
       " x[2,1]  x[2,2]  x[2,3]  x[2,4]  x[2,5]\n",
       " x[3,1]  x[3,2]  x[3,3]  x[3,4]  x[3,5]\n",
       " x[4,1]  x[4,2]  x[4,3]  x[4,4]  x[4,5]\n",
       " x[5,1]  x[5,2]  x[5,3]  x[5,4]  x[5,5]"
      ]
     },
     "metadata": {},
     "output_type": "display_data"
    }
   ],
   "source": [
    "# Definir el problema de optimización\n",
    "model2 = Model(GLPK.Optimizer)\n",
    "\n",
    "# Número de trabajadores y tareas\n",
    "n_workers2 = size(cost2, 1)\n",
    "n_tasks2 = size(cost2, 2)\n",
    "\n",
    "# Variables de decisión: x[i,j] = 1 si el trabajador i hace la tarea j, 0 de lo contrario\n",
    "@variable(model2, x[1:n_workers2, 1:n_tasks2], Bin)\n"
   ]
  },
  {
   "cell_type": "code",
   "execution_count": 12,
   "metadata": {},
   "outputs": [
    {
     "data": {
      "text/latex": [
       "$ 3 x_{1,1} + 9 x_{1,2} + 2 x_{1,3} + 2 x_{1,4} + 7 x_{1,5} + 6 x_{2,1} + x_{2,2} + 5 x_{2,3} + 6 x_{2,4} + 6 x_{2,5} + 9 x_{3,1} + 4 x_{3,2} + 7 x_{3,3} + 10 x_{3,4} + 3 x_{3,5} + 2 x_{4,1} + 5 x_{4,2} + 4 x_{4,3} + 2 x_{4,4} + x_{4,5} + 9 x_{5,1} + 6 x_{5,2} + 2 x_{5,3} + 4 x_{5,4} + 6 x_{5,5} $"
      ],
      "text/plain": [
       "3 x[1,1] + 9 x[1,2] + 2 x[1,3] + 2 x[1,4] + 7 x[1,5] + 6 x[2,1] + x[2,2] + 5 x[2,3] + 6 x[2,4] + 6 x[2,5] + 9 x[3,1] + 4 x[3,2] + 7 x[3,3] + 10 x[3,4] + 3 x[3,5] + 2 x[4,1] + 5 x[4,2] + 4 x[4,3] + 2 x[4,4] + x[4,5] + 9 x[5,1] + 6 x[5,2] + 2 x[5,3] + 4 x[5,4] + 6 x[5,5]"
      ]
     },
     "metadata": {},
     "output_type": "display_data"
    }
   ],
   "source": [
    "# Función objetivo: minimizar el costo total de asignación\n",
    "@objective(model2, Min, sum(cost2[i, j] * x[i, j] for i in 1:n_workers2 for j in 1:n_tasks2))\n"
   ]
  },
  {
   "cell_type": "code",
   "execution_count": 13,
   "metadata": {},
   "outputs": [
    {
     "data": {
      "text/plain": [
       "5-element Vector{ConstraintRef{Model, MathOptInterface.ConstraintIndex{MathOptInterface.ScalarAffineFunction{Float64}, MathOptInterface.EqualTo{Float64}}, ScalarShape}}:\n",
       " x[1,1] + x[2,1] + x[3,1] + x[4,1] + x[5,1] = 1\n",
       " x[1,2] + x[2,2] + x[3,2] + x[4,2] + x[5,2] = 1\n",
       " x[1,3] + x[2,3] + x[3,3] + x[4,3] + x[5,3] = 1\n",
       " x[1,4] + x[2,4] + x[3,4] + x[4,4] + x[5,4] = 1\n",
       " x[1,5] + x[2,5] + x[3,5] + x[4,5] + x[5,5] = 1"
      ]
     },
     "metadata": {},
     "output_type": "display_data"
    }
   ],
   "source": [
    "# Restricción: cada trabajador hace una tarea\n",
    "@constraint(model2, [i in 1:n_workers2], sum(x[i, j] for j in 1:n_tasks2) == 1)\n",
    "\n",
    "# Restricción: cada tarea la hace solo un trabajador\n",
    "@constraint(model2, [j in 1:n_tasks2], sum(x[i, j] for i in 1:n_workers2) == 1)\n"
   ]
  },
  {
   "cell_type": "code",
   "execution_count": 14,
   "metadata": {},
   "outputs": [
    {
     "name": "stdout",
     "output_type": "stream",
     "text": [
      "Estado del modelo: OPTIMAL\n",
      "Costo total: 10.0\n",
      "Trabajador 1 hace la tarea 4\n",
      "Trabajador 2 hace la tarea 2\n",
      "Trabajador 3 hace la tarea 5\n",
      "Trabajador 4 hace la tarea 1\n",
      "Trabajador 5 hace la tarea 3\n"
     ]
    }
   ],
   "source": [
    "# Resolver el modelo\n",
    "optimize!(model2)\n",
    "\n",
    "# Mostrar resultados\n",
    "println(\"Estado del modelo: \", termination_status(model2))\n",
    "println(\"Costo total: \", objective_value(model2))\n",
    "\n",
    "# Mostrar la asignación de cada trabajador\n",
    "for i in 1:n_workers2, j in 1:n_tasks2\n",
    "    if value(x[i, j]) > 0.5\n",
    "        println(\"Trabajador \", i, \" hace la tarea \", j)\n",
    "    end\n",
    "end\n"
   ]
  }
 ],
 "metadata": {
  "kernelspec": {
   "display_name": "Julia 1.10.5",
   "language": "julia",
   "name": "julia-1.10"
  },
  "language_info": {
   "file_extension": ".jl",
   "mimetype": "application/julia",
   "name": "julia",
   "version": "1.10.5"
  }
 },
 "nbformat": 4,
 "nbformat_minor": 2
}
