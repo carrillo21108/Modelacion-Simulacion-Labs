{
 "cells": [
  {
   "cell_type": "markdown",
   "metadata": {},
   "source": [
    "# Lab05"
   ]
  },
  {
   "cell_type": "code",
   "execution_count": 2,
   "metadata": {},
   "outputs": [],
   "source": [
    "import numpy as np\n",
    "import matplotlib.pyplot as plt\n",
    "import matplotlib.animation as animation\n",
    "from matplotlib.colors import LinearSegmentedColormap"
   ]
  },
  {
   "cell_type": "markdown",
   "metadata": {},
   "source": [
    "### Ejercicio 01"
   ]
  },
  {
   "cell_type": "code",
   "execution_count": 51,
   "metadata": {},
   "outputs": [
    {
     "data": {
      "image/png": "[encoded data removed]",
      "text/plain": [
       "<Figure size 640x480 with 1 Axes>"
      ]
     },
     "metadata": {},
     "output_type": "display_data"
    },
    {
     "data": {
      "text/plain": [
       "<matplotlib.animation.FuncAnimation at 0x20f009f08f0>"
      ]
     },
     "execution_count": 51,
     "metadata": {},
     "output_type": "execute_result"
    }
   ],
   "source": [
    "def initialize_grid(M, N, restricted_areas):\n",
    "    \"\"\"\n",
    "    Initialize the grid and set restricted areas.\n",
    "    \n",
    "    Args:\n",
    "    - M: Number of rows in the grid.\n",
    "    - N: Number of columns in the grid.\n",
    "    - restricted_areas: List of restricted areas, where each area is defined by\n",
    "      a tuple (x_start, y_start, x_end, y_end), representing the top-left and bottom-right corners.\n",
    "\n",
    "    Returns:\n",
    "    - grid: The grid with ones (1) for allowed areas and zeros (0) for restricted areas.\n",
    "    \"\"\"\n",
    "    grid = np.ones((M, N))\n",
    "    \n",
    "    # Apply each restricted area (set to 0)\n",
    "    for (x_start, y_start, x_end, y_end) in restricted_areas:\n",
    "        grid[x_start:x_end, y_start:y_end] = 0\n",
    "    \n",
    "    return grid\n",
    "\n",
    "def generate_gaussian_spots(u0, grid, M, N, num_spots, max_radius, sigma):\n",
    "    \"\"\"\n",
    "    Generate Gaussian-like spots on the grid, avoiding restricted areas.\n",
    "    \"\"\"\n",
    "    # Generate Gaussian-like spots on the grid, avoiding restricted areas\n",
    "    for _ in range(num_spots):\n",
    "        valid_center_found = False\n",
    "        \n",
    "        # Ensure the center is within the valid area\n",
    "        while not valid_center_found:\n",
    "            x_center, y_center = np.random.randint(0, M), np.random.randint(0, N)\n",
    "            if grid[x_center, y_center] == 1:  # Only proceed if it's inside the valid area\n",
    "                valid_center_found = True\n",
    "        \n",
    "        # For each spot, set a decaying value based on the distance from the center\n",
    "        for i in range(M):\n",
    "            for j in range(N):\n",
    "                # Calculate distance from the center\n",
    "                distance = np.sqrt((i - x_center)**2 + (j - y_center)**2)\n",
    "                if distance <= max_radius and grid[i, j] == 1:  # Inside the radius and valid region\n",
    "                    # Use a Gaussian-like decay: higher at the center, lower at the edges\n",
    "                    u0[i, j] = np.exp(-distance**2 / (2 * sigma**2))\n",
    "\n",
    "    return u0\n",
    "\n",
    "def diffusion_simulation(M, N, restricted_areas, T, K, u0):\n",
    "    \"\"\"\n",
    "    Perform a diffusion simulation on the grid.\n",
    "    \"\"\"\n",
    "    grid = initialize_grid(M, N, restricted_areas)\n",
    "    u = u0.copy()  # Copy initial distribution\n",
    "\n",
    "    # Store each step of the simulation for visualization\n",
    "    frames = [u.copy()]\n",
    "\n",
    "    # Neighborhood shifts for 8 neighbors\n",
    "    neighbors = [(-1, -1), (-1, 0), (-1, 1), (0, -1), (0, 1), (1, -1), (1, 0), (1, 1)]\n",
    "\n",
    "    # For each time step\n",
    "    for t in range(1, T + 1):\n",
    "        new_u = u.copy()  # Copy current grid state\n",
    "        for i in range(M):\n",
    "            for j in range(N):\n",
    "                if grid[i, j] == 1:  # Only update for cells in allowed areas\n",
    "                    neighbor_sum = 0\n",
    "\n",
    "                    # Calculate the sum of neighbors\n",
    "                    for dx, dy in neighbors:\n",
    "                        ni, nj = i + dx, j + dy\n",
    "                        if 0 <= ni < M and 0 <= nj < N and grid[ni, nj] == 1:\n",
    "                            neighbor_sum += u[ni, nj]\n",
    "\n",
    "                    # Update the cell using the diffusion equation\n",
    "                    new_u[i, j] = (1 - K) * u[i, j] + (K / 8) * neighbor_sum\n",
    "        \n",
    "        u = new_u  # Update the state for the next time step\n",
    "        frames.append(u.copy())  # Store frame for visualization\n",
    "    \n",
    "    return frames  # Return all frames for visualization\n",
    "\n",
    "def visualize_diffusion(M, N, restricted_areas, T, K, u0):\n",
    "    \"\"\"\n",
    "    Visualize the diffusion process using an animation.\n",
    "    \"\"\"\n",
    "    # Run the simulation and get frames\n",
    "    frames = diffusion_simulation(M, N, restricted_areas, T, K, u0)\n",
    "\n",
    "    # Create a figure for plotting\n",
    "    fig, ax = plt.subplots()\n",
    "\n",
    "    # Use the 'viridis' colormap\n",
    "    cmap = plt.get_cmap('viridis')\n",
    "\n",
    "    # Update function for animation\n",
    "    def update(t):\n",
    "        ax.clear()\n",
    "        cax = ax.imshow(frames[t], cmap=cmap, interpolation='nearest', vmin=0, vmax=1)\n",
    "        ax.set_title(f'Time = {t}')\n",
    "        plt.axis('off')\n",
    "\n",
    "    # Create animation and assign it to a variable to prevent deletion\n",
    "    ani = animation.FuncAnimation(fig, update, frames=range(T+1), repeat=False)\n",
    "\n",
    "    # Save the animation as a GIF file\n",
    "    ani.save('simulation.gif', writer='pillow')\n",
    "\n",
    "    # Show the animation\n",
    "    plt.show()\n",
    "    \n",
    "    return ani\n",
    "\n",
    "# Parameters\n",
    "M, N = 20, 20  # Grid dimensions\n",
    "restricted_areas = [(15, 15, 20, 20)]  # Define multiple restricted areas\n",
    "T = 20  # Time steps\n",
    "K = 0.5  # Diffusion speed parameter\n",
    "u0 = np.zeros((M, N))  # Initialize the grid with zeros\n",
    "\n",
    "# Initialize the grid with restricted areas\n",
    "grid = initialize_grid(M, N, restricted_areas)\n",
    "\n",
    "# Generate Gaussian-like spots, avoiding restricted areas, with decreasing value from the center\n",
    "u0 = generate_gaussian_spots(u0, grid, M, N, num_spots=3, max_radius=5, sigma=2)\n",
    "\n",
    "# Visualize the diffusion process and assign the animation to a variable\n",
    "visualize_diffusion(M, N, restricted_areas, T, K, u0)\n",
    "\n",
    "\n"
   ]
  },
  {
   "cell_type": "markdown",
   "metadata": {},
   "source": [
    "### Ejercicio 02"
   ]
  },
  {
   "cell_type": "code",
   "execution_count": null,
   "metadata": {},
   "outputs": [],
   "source": []
  }
 ],
 "metadata": {
  "kernelspec": {
   "display_name": "Python 3",
   "language": "python",
   "name": "python3"
  },
  "language_info": {
   "codemirror_mode": {
    "name": "ipython",
    "version": 3
   },
   "file_extension": ".py",
   "mimetype": "text/x-python",
   "name": "python",
   "nbconvert_exporter": "python",
   "pygments_lexer": "ipython3",
   "version": "3.12.4"
  }
 },
 "nbformat": 4,
 "nbformat_minor": 2
}
